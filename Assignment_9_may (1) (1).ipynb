{
 "cells": [
  {
   "cell_type": "markdown",
   "id": "66138c52-5cb7-4234-b53d-704b80686011",
   "metadata": {},
   "source": [
    "# <font color=\"red\"><u>Assignment 1 </u></font>"
   ]
  },
  {
   "cell_type": "markdown",
   "id": "f770b669-bbdf-4b6d-aaaa-2ab9839356d3",
   "metadata": {},
   "source": [
    "<font color=\"yellow\">1. Create one variable containing following type of data:<br>\n",
    "    i. String<br>\n",
    "    ii. List<br>\n",
    "    iii. Float <br>\n",
    "    iv. Tuple <br></font>"
   ]
  },
  {
   "cell_type": "markdown",
   "id": "10a0a69f-2129-4dc2-90b0-7d8a4e166dc5",
   "metadata": {},
   "source": [
    "<font color=\"red\">1. i. solution :- </font>"
   ]
  },
  {
   "cell_type": "code",
   "execution_count": 1,
   "id": "1deab7d7-9484-4ce1-a919-cd359c733513",
   "metadata": {},
   "outputs": [
    {
     "data": {
      "text/plain": [
       "'Maurya Mayank'"
      ]
     },
     "execution_count": 1,
     "metadata": {},
     "output_type": "execute_result"
    }
   ],
   "source": [
    "s=\"Maurya Mayank\"\n",
    "s"
   ]
  },
  {
   "cell_type": "code",
   "execution_count": 2,
   "id": "aea5bcc9-f06a-43ab-b4c4-123629572347",
   "metadata": {},
   "outputs": [
    {
     "data": {
      "text/plain": [
       "str"
      ]
     },
     "execution_count": 2,
     "metadata": {},
     "output_type": "execute_result"
    }
   ],
   "source": [
    "type(s)"
   ]
  },
  {
   "cell_type": "markdown",
   "id": "c072f8f5-9d9a-48cf-bde4-1bedfe6691dd",
   "metadata": {},
   "source": [
    "<font color=\"red\"> 1. ii. solution :- </font>"
   ]
  },
  {
   "cell_type": "code",
   "execution_count": 3,
   "id": "42a29923-e1e0-45c5-9fa8-b0511375cccb",
   "metadata": {},
   "outputs": [
    {
     "data": {
      "text/plain": [
       "[1, 22.43, 'Maurya', (4+6j)]"
      ]
     },
     "execution_count": 3,
     "metadata": {},
     "output_type": "execute_result"
    }
   ],
   "source": [
    "l=[1,22.43,\"Maurya\",4+6j]\n",
    "l"
   ]
  },
  {
   "cell_type": "code",
   "execution_count": 4,
   "id": "6c71f0e6-6e0a-43d0-938e-db4e864dab88",
   "metadata": {},
   "outputs": [
    {
     "data": {
      "text/plain": [
       "list"
      ]
     },
     "execution_count": 4,
     "metadata": {},
     "output_type": "execute_result"
    }
   ],
   "source": [
    "type(l)"
   ]
  },
  {
   "cell_type": "markdown",
   "id": "1527ce50-d1fc-4b82-8716-391a4ddf352d",
   "metadata": {},
   "source": [
    "<font color=\"red\">1. iii. solution :- </font>"
   ]
  },
  {
   "cell_type": "code",
   "execution_count": 5,
   "id": "12aa1615-f24f-45cb-ba33-d8e3ed966aa3",
   "metadata": {},
   "outputs": [
    {
     "data": {
      "text/plain": [
       "23.54"
      ]
     },
     "execution_count": 5,
     "metadata": {},
     "output_type": "execute_result"
    }
   ],
   "source": [
    "f=23.54\n",
    "f"
   ]
  },
  {
   "cell_type": "code",
   "execution_count": 6,
   "id": "ac06b875-2230-4c7f-ab95-b0693230bf39",
   "metadata": {},
   "outputs": [
    {
     "data": {
      "text/plain": [
       "float"
      ]
     },
     "execution_count": 6,
     "metadata": {},
     "output_type": "execute_result"
    }
   ],
   "source": [
    "type(f)"
   ]
  },
  {
   "cell_type": "markdown",
   "id": "58140070-5c79-4523-a2df-51aef9aa9126",
   "metadata": {},
   "source": [
    "<font color=\"red\">1. iv. solution :- </font>"
   ]
  },
  {
   "cell_type": "code",
   "execution_count": 7,
   "id": "b23ba9d2-b232-40bb-b662-59cba8321a79",
   "metadata": {},
   "outputs": [
    {
     "data": {
      "text/plain": [
       "(12, 35.65, 'Mayank', (45+9j))"
      ]
     },
     "execution_count": 7,
     "metadata": {},
     "output_type": "execute_result"
    }
   ],
   "source": [
    "t=(12,35.65,\"Mayank\",45+9j)\n",
    "t"
   ]
  },
  {
   "cell_type": "code",
   "execution_count": 8,
   "id": "6fb13766-36be-4cbe-b1c9-64c7b6b6b437",
   "metadata": {},
   "outputs": [
    {
     "data": {
      "text/plain": [
       "tuple"
      ]
     },
     "execution_count": 8,
     "metadata": {},
     "output_type": "execute_result"
    }
   ],
   "source": [
    "type(t)"
   ]
  },
  {
   "cell_type": "markdown",
   "id": "2665d344-cc33-45f7-81d9-56eb6d9716b8",
   "metadata": {},
   "source": [
    "<font color=\"yellow\"> 2. Given are some following variables containing data: <br>(i)\tvar1 = ‘ ‘ <br>(ii)\tvar2 = ‘[ DS , ML , Python]’ <br>(iii)\tvar3 = [ ‘DS’ , ’ML’ , ‘Python’ ] <br>(iv)\tvar4 = 1. <br>\n",
    "What will be the data type of the above given variable. </font>"
   ]
  },
  {
   "cell_type": "markdown",
   "id": "6c93e6f9-948c-4cc0-bd5b-6d002b4249ed",
   "metadata": {},
   "source": [
    "<font color=\"red\">2. i. solution:- </font>"
   ]
  },
  {
   "cell_type": "code",
   "execution_count": 9,
   "id": "aaff6f7a-ad15-4adb-bdc1-93f4d84f3ba0",
   "metadata": {},
   "outputs": [
    {
     "data": {
      "text/plain": [
       "str"
      ]
     },
     "execution_count": 9,
     "metadata": {},
     "output_type": "execute_result"
    }
   ],
   "source": [
    "var1=\"\"\n",
    "type(var1)"
   ]
  },
  {
   "cell_type": "markdown",
   "id": "d30ef5b2-14d7-4702-aef5-0ae205c719f2",
   "metadata": {},
   "source": [
    "<font color=\"red\">2. ii.solution:- </font>"
   ]
  },
  {
   "cell_type": "code",
   "execution_count": 10,
   "id": "02e93b08-c295-4ec1-aeec-23a91b37fd37",
   "metadata": {},
   "outputs": [
    {
     "data": {
      "text/plain": [
       "'[DS,ML,Python]'"
      ]
     },
     "execution_count": 10,
     "metadata": {},
     "output_type": "execute_result"
    }
   ],
   "source": [
    "var2='[DS,ML,Python]'\n",
    "var2"
   ]
  },
  {
   "cell_type": "code",
   "execution_count": 11,
   "id": "bdfb9998-1cca-4085-8435-f4d132261d7e",
   "metadata": {},
   "outputs": [
    {
     "data": {
      "text/plain": [
       "str"
      ]
     },
     "execution_count": 11,
     "metadata": {},
     "output_type": "execute_result"
    }
   ],
   "source": [
    "type(var2)"
   ]
  },
  {
   "cell_type": "markdown",
   "id": "b8fe67d0-7c63-4cad-8e87-ac95f6024d79",
   "metadata": {},
   "source": [
    "<font color=\"red\">2. iii. solution:- </font>"
   ]
  },
  {
   "cell_type": "code",
   "execution_count": 12,
   "id": "a4645fe0-4f1c-4a80-9307-37186f6e4074",
   "metadata": {},
   "outputs": [
    {
     "data": {
      "text/plain": [
       "['DS', 'ML', 'Python']"
      ]
     },
     "execution_count": 12,
     "metadata": {},
     "output_type": "execute_result"
    }
   ],
   "source": [
    "var3=['DS','ML','Python']\n",
    "var3"
   ]
  },
  {
   "cell_type": "code",
   "execution_count": 13,
   "id": "7aa67b4a-57a8-4645-9692-130f256f2c5b",
   "metadata": {},
   "outputs": [
    {
     "data": {
      "text/plain": [
       "list"
      ]
     },
     "execution_count": 13,
     "metadata": {},
     "output_type": "execute_result"
    }
   ],
   "source": [
    "type(var3)"
   ]
  },
  {
   "cell_type": "markdown",
   "id": "214b4195-33cd-49ca-a250-3e97332a7b95",
   "metadata": {},
   "source": [
    "<font color=\"red\"> 2. iv. solution:- </font>"
   ]
  },
  {
   "cell_type": "code",
   "execution_count": 14,
   "id": "3dccf2a0-fa20-41e6-af57-7b6d3a5586a0",
   "metadata": {},
   "outputs": [
    {
     "data": {
      "text/plain": [
       "1.0"
      ]
     },
     "execution_count": 14,
     "metadata": {},
     "output_type": "execute_result"
    }
   ],
   "source": [
    "var4=1.\n",
    "var4"
   ]
  },
  {
   "cell_type": "code",
   "execution_count": 15,
   "id": "da60b36a-dd67-4eaa-af4a-277a6f10a787",
   "metadata": {},
   "outputs": [
    {
     "data": {
      "text/plain": [
       "float"
      ]
     },
     "execution_count": 15,
     "metadata": {},
     "output_type": "execute_result"
    }
   ],
   "source": [
    "type(var4)"
   ]
  },
  {
   "cell_type": "markdown",
   "id": "a1c5b75b-199a-42f5-83ff-8faebb2b0ef0",
   "metadata": {},
   "source": [
    "<font color=\"yellow\">\n",
    "    Q3. Explain the use of the following operators using an example: <br>\n",
    "\n",
    "(i)\t/ <br>\n",
    "\n",
    "(ii)\t% <br>\n",
    "\n",
    "(iii)\t// <br>\n",
    "\n",
    "(iv)\t** <br>\n",
    "    </font>"
   ]
  },
  {
   "cell_type": "markdown",
   "id": "3f5e888a-9e30-47e7-a63d-70a527e0f760",
   "metadata": {},
   "source": [
    "Let's create two variable a and b then we perform /,%,//,** operation on it."
   ]
  },
  {
   "cell_type": "code",
   "execution_count": 16,
   "id": "0f611012-b400-4505-ba3e-0f77e5d1093f",
   "metadata": {},
   "outputs": [],
   "source": [
    "a,b=17,8"
   ]
  },
  {
   "cell_type": "markdown",
   "id": "b02e5705-7d72-4b7e-b782-9f9a107e7900",
   "metadata": {},
   "source": [
    "<font color=\"red\">3. i. solutions:-</font>"
   ]
  },
  {
   "cell_type": "markdown",
   "id": "159814c6-f616-426a-a5f4-8e252e882001",
   "metadata": {},
   "source": [
    "we perform Arithmetic operation ( division ) here. "
   ]
  },
  {
   "cell_type": "code",
   "execution_count": 17,
   "id": "9d8fefa6-b14c-45c9-997d-945ddcfdc194",
   "metadata": {},
   "outputs": [
    {
     "data": {
      "text/plain": [
       "2.125"
      ]
     },
     "execution_count": 17,
     "metadata": {},
     "output_type": "execute_result"
    }
   ],
   "source": [
    "a/b"
   ]
  },
  {
   "cell_type": "markdown",
   "id": "6f3516f9-dbc2-40b9-8d42-e80659961dcc",
   "metadata": {},
   "source": [
    "Division operator gives float values (Quotient)"
   ]
  },
  {
   "cell_type": "markdown",
   "id": "b462f2fd-2bf5-4277-a14a-b82ee941e319",
   "metadata": {},
   "source": [
    "<font color=\"red\">3. ii. solution :-</font>"
   ]
  },
  {
   "cell_type": "markdown",
   "id": "8b51e9bd-bd98-4659-a3e8-e80772962cad",
   "metadata": {},
   "source": [
    "Here we perform Arithmetic operation Module (%) which returns the remainder when the first operand a=17 is divided by the second b=8."
   ]
  },
  {
   "cell_type": "code",
   "execution_count": 18,
   "id": "227a2f27-c7a5-4991-89de-aaa1a77ac24d",
   "metadata": {},
   "outputs": [
    {
     "data": {
      "text/plain": [
       "2"
      ]
     },
     "execution_count": 18,
     "metadata": {},
     "output_type": "execute_result"
    }
   ],
   "source": [
    "a//b"
   ]
  },
  {
   "cell_type": "markdown",
   "id": "150c5be3-2421-475e-b038-47fc7c6fecc5",
   "metadata": {},
   "source": [
    "<font color=\"red\">3. iii. solution:- </font>"
   ]
  },
  {
   "cell_type": "markdown",
   "id": "0c12ca74-0517-4e78-b5e8-021a5ac28d48",
   "metadata": {},
   "source": [
    "Here we perform Arithmetic operation floor division (//) which returns the floor value means non decimal value."
   ]
  },
  {
   "cell_type": "code",
   "execution_count": 19,
   "id": "fd16db30-a29c-416d-b65a-b4e136476158",
   "metadata": {},
   "outputs": [
    {
     "data": {
      "text/plain": [
       "17"
      ]
     },
     "execution_count": 19,
     "metadata": {},
     "output_type": "execute_result"
    }
   ],
   "source": [
    "a"
   ]
  },
  {
   "cell_type": "code",
   "execution_count": 20,
   "id": "66586294-f7d1-4ce6-990b-11f84fc1d126",
   "metadata": {},
   "outputs": [
    {
     "data": {
      "text/plain": [
       "8"
      ]
     },
     "execution_count": 20,
     "metadata": {},
     "output_type": "execute_result"
    }
   ],
   "source": [
    "b"
   ]
  },
  {
   "cell_type": "code",
   "execution_count": 21,
   "id": "5f791a75-ad79-48a3-b8da-370dd6c6af02",
   "metadata": {},
   "outputs": [
    {
     "data": {
      "text/plain": [
       "2"
      ]
     },
     "execution_count": 21,
     "metadata": {},
     "output_type": "execute_result"
    }
   ],
   "source": [
    "a//b"
   ]
  },
  {
   "cell_type": "markdown",
   "id": "e4c6a8f2-fdef-4010-b9dd-1a4ed1751838",
   "metadata": {},
   "source": [
    "<font color=\"red\">3. iv. solution:- </font>"
   ]
  },
  {
   "cell_type": "markdown",
   "id": "385c4fc2-2ca4-4fa0-a8ac-31edf18ab9a6",
   "metadata": {},
   "source": [
    "Here we perform Arithmetic operation Exponentiation (power) which Returns first raised to power second."
   ]
  },
  {
   "cell_type": "code",
   "execution_count": 22,
   "id": "9fe2aed6-b711-4c7b-af09-a5ec7cbf4509",
   "metadata": {},
   "outputs": [
    {
     "data": {
      "text/plain": [
       "17"
      ]
     },
     "execution_count": 22,
     "metadata": {},
     "output_type": "execute_result"
    }
   ],
   "source": [
    "a"
   ]
  },
  {
   "cell_type": "code",
   "execution_count": 23,
   "id": "d6e1d400-e30c-47ff-9964-ceb8cd685a15",
   "metadata": {},
   "outputs": [
    {
     "data": {
      "text/plain": [
       "8"
      ]
     },
     "execution_count": 23,
     "metadata": {},
     "output_type": "execute_result"
    }
   ],
   "source": [
    "b"
   ]
  },
  {
   "cell_type": "code",
   "execution_count": 24,
   "id": "43241d79-e245-4986-ac37-7d3685580137",
   "metadata": {},
   "outputs": [
    {
     "data": {
      "text/plain": [
       "6975757441"
      ]
     },
     "execution_count": 24,
     "metadata": {},
     "output_type": "execute_result"
    }
   ],
   "source": [
    "a**b"
   ]
  },
  {
   "cell_type": "markdown",
   "id": "83370bb3-aeca-4afb-b2d4-f50fe6469c46",
   "metadata": {},
   "source": [
    "<font color=\"yellow\">Q4. Create a list of length 10 of your choice containing multiple types of data. Using for loop print the \n",
    "element and its data type. </font>"
   ]
  },
  {
   "cell_type": "markdown",
   "id": "2470eeb6-758e-44c0-979d-70d5a492c5a2",
   "metadata": {},
   "source": [
    "<font color=\"red\">solution:-</font>"
   ]
  },
  {
   "cell_type": "code",
   "execution_count": 25,
   "id": "ad3cbef5-546f-4926-896a-9ac91cc50866",
   "metadata": {},
   "outputs": [
    {
     "data": {
      "text/plain": [
       "10"
      ]
     },
     "execution_count": 25,
     "metadata": {},
     "output_type": "execute_result"
    }
   ],
   "source": [
    "l1=[1,2,3,4,23.55,\"Maurya\",34-8j,\"Mayank\",99.5,10]\n",
    "len(l1)"
   ]
  },
  {
   "cell_type": "code",
   "execution_count": 26,
   "id": "b15a9229-55be-421b-a1b3-0b5d1bcdd5bc",
   "metadata": {},
   "outputs": [
    {
     "name": "stdout",
     "output_type": "stream",
     "text": [
      "1 : <class 'int'>\n",
      "2 : <class 'int'>\n",
      "3 : <class 'int'>\n",
      "4 : <class 'int'>\n",
      "23.55 : <class 'float'>\n",
      "Maurya : <class 'str'>\n",
      "(34-8j) : <class 'complex'>\n",
      "Mayank : <class 'str'>\n",
      "99.5 : <class 'float'>\n",
      "10 : <class 'int'>\n"
     ]
    }
   ],
   "source": [
    "for i in l1:\n",
    "    print(i,\":\",type(i))"
   ]
  },
  {
   "cell_type": "markdown",
   "id": "3d6769de-65f4-4e7b-8a70-ea0f738b644e",
   "metadata": {},
   "source": [
    "<font color=\"yellow\">Q5. Using a while loop, verify if the number A is purely divisible by number B and if so then how many \n",
    "times it can be divisible. </font>"
   ]
  },
  {
   "cell_type": "markdown",
   "id": "e392a733-6a98-4f2c-964c-650336eb0d95",
   "metadata": {},
   "source": [
    "<font color=\"red\">solution:- </font>"
   ]
  },
  {
   "cell_type": "markdown",
   "id": "e6ef432a-379e-49d1-a33d-56ccdf9a8699",
   "metadata": {},
   "source": [
    "Take two input from user a and b"
   ]
  },
  {
   "cell_type": "code",
   "execution_count": 32,
   "id": "e79b3dcd-3c71-4af6-91d5-f55f33aa2e81",
   "metadata": {},
   "outputs": [
    {
     "name": "stdout",
     "output_type": "stream",
     "text": [
      "Enter First number =0\n",
      "Enter seccond number =2\n",
      "0  is infinite times divisible by 2 so we take it one time only\n",
      "0 is purely divisible by 2\n",
      "0 is 1 times divisible by 2\n"
     ]
    }
   ],
   "source": [
    "a=int(input(\"Enter First number =\"))\n",
    "b=int(input(\"Enter seccond number =\"))\n",
    "d=a\n",
    "c=0\n",
    "while d%b==0:\n",
    "    c+=1\n",
    "    d=d/b\n",
    "    if a==0 or b==1:\n",
    "        print(a,\" is infinite times divisible by\",b,\"so we take it one time only\")\n",
    "        break\n",
    "\n",
    "if c>0:\n",
    "    print(a,\"is purely divisible by\",b)\n",
    "    print(a,\"is\",c,\"times divisible by\",b)\n",
    "else:\n",
    "    print(a,\"is not divisible by\",b)"
   ]
  },
  {
   "cell_type": "markdown",
   "id": "5e299165",
   "metadata": {},
   "source": [
    "<font color=\"yellow\">Q6. Create a list containing 25 int type data. Using for loop and if-else condition print if the element is \n",
    "divisible by 3 or not? </font>"
   ]
  },
  {
   "cell_type": "markdown",
   "id": "bae6f3e9",
   "metadata": {},
   "source": [
    "<font color=\"red\">solution:- </font>"
   ]
  },
  {
   "cell_type": "code",
   "execution_count": 43,
   "id": "f00d7847-5caf-4744-9213-46a0e0429f1f",
   "metadata": {},
   "outputs": [],
   "source": [
    "l2=[12,3,4,65,77,865,43,67,10,98,32,45,78,65,43,22,33,67,98,100,23,65,61,78,93]"
   ]
  },
  {
   "cell_type": "code",
   "execution_count": 44,
   "id": "1a07d709",
   "metadata": {},
   "outputs": [
    {
     "data": {
      "text/plain": [
       "25"
      ]
     },
     "execution_count": 44,
     "metadata": {},
     "output_type": "execute_result"
    }
   ],
   "source": [
    "len(l2)"
   ]
  },
  {
   "cell_type": "code",
   "execution_count": 46,
   "id": "b232af88",
   "metadata": {},
   "outputs": [
    {
     "name": "stdout",
     "output_type": "stream",
     "text": [
      "12 is divisible by 3\n",
      "3 is divisible by 3\n",
      "4 is not divisible by 3\n",
      "65 is not divisible by 3\n",
      "77 is not divisible by 3\n",
      "865 is not divisible by 3\n",
      "43 is not divisible by 3\n",
      "67 is not divisible by 3\n",
      "10 is not divisible by 3\n",
      "98 is not divisible by 3\n",
      "32 is not divisible by 3\n",
      "45 is divisible by 3\n",
      "78 is divisible by 3\n",
      "65 is not divisible by 3\n",
      "43 is not divisible by 3\n",
      "22 is not divisible by 3\n",
      "33 is divisible by 3\n",
      "67 is not divisible by 3\n",
      "98 is not divisible by 3\n",
      "100 is not divisible by 3\n",
      "23 is not divisible by 3\n",
      "65 is not divisible by 3\n",
      "61 is not divisible by 3\n",
      "78 is divisible by 3\n",
      "93 is divisible by 3\n"
     ]
    }
   ],
   "source": [
    "for i in l2:\n",
    "    if i%3==0:\n",
    "        print(i,\"is divisible by 3\")\n",
    "    else:\n",
    "        print(i,\"is not divisible by 3\")"
   ]
  },
  {
   "cell_type": "markdown",
   "id": "929efee2",
   "metadata": {},
   "source": [
    "<font color=\"yellow\">Q7. What do you understand about mutable and immutable data types? Give examples for both showing \n",
    "this property. </font>"
   ]
  },
  {
   "cell_type": "markdown",
   "id": "67e4be91",
   "metadata": {},
   "source": [
    "<font color=\"red\">solution:- </font>"
   ]
  },
  {
   "cell_type": "markdown",
   "id": "f347d261",
   "metadata": {},
   "source": [
    " we can change the contents of a mutable data type in Python, by assigning new values or by simply adding new values.<br>On otherhand we cannot change the contents of an immutable data type in Python.\n",
    " Example of mutable datatype:- \n",
    " <br>i. List <br>\n",
    " ii. Set <br>\n",
    " iii. Dictionary <br>"
   ]
  },
  {
   "cell_type": "markdown",
   "id": "de31ef8b",
   "metadata": {},
   "source": [
    "<font color=\"blue\">i. List :-</font> A list is a  ordered sequence of elements. we can change the value of a list in Python by assigning a new value to our already existing list thats the reason <br> we consider list as mutable datatype.\n",
    "    "
   ]
  },
  {
   "cell_type": "code",
   "execution_count": 53,
   "id": "52ab6bef",
   "metadata": {},
   "outputs": [
    {
     "data": {
      "text/plain": [
       "[1, 2, 3, 4, 5, 6, 100]"
      ]
     },
     "execution_count": 53,
     "metadata": {},
     "output_type": "execute_result"
    }
   ],
   "source": [
    "l3=[1,2,3,4,5,6]\n",
    "# by using append operation we add element on list\n",
    "l3.append(100)\n",
    "l3"
   ]
  },
  {
   "cell_type": "code",
   "execution_count": 54,
   "id": "5e821ab8",
   "metadata": {},
   "outputs": [
    {
     "data": {
      "text/plain": [
       "[1, 2, 3, 4, 5, 6, 100, 4, 25, 34]"
      ]
     },
     "execution_count": 54,
     "metadata": {},
     "output_type": "execute_result"
    }
   ],
   "source": [
    "# by using extend operation when we need to append several items to a list as individual items.\n",
    "l3.extend([4,25,34])\n",
    "l3"
   ]
  },
  {
   "cell_type": "code",
   "execution_count": 56,
   "id": "d203daaf",
   "metadata": {},
   "outputs": [],
   "source": [
    "# we have modified the value of our list using the indexing operator\n",
    "l3[3]=2901\n",
    "l3"
   ]
  },
  {
   "cell_type": "markdown",
   "id": "114f7db8",
   "metadata": {},
   "source": [
    "Hence these are the reason of saying list is mutable datatype."
   ]
  },
  {
   "cell_type": "markdown",
   "id": "1d0e7f57-5c82-408f-9db7-12f7abb6b5bc",
   "metadata": {},
   "source": [
    "<font color=\"blue\">ii. Set :- </font> A set is an unordered collection of items. All the elements of the set are unique in nature. Elements of the set are immutable in nature, <br> that is, they cannot be changed but A set itself is mutable. That means, we can add or remove elements from a set in Python."
   ]
  },
  {
   "cell_type": "code",
   "execution_count": 15,
   "id": "7dbe5990-026a-43bc-b203-69c8b8efbb5d",
   "metadata": {},
   "outputs": [
    {
     "name": "stdout",
     "output_type": "stream",
     "text": [
      "set is  {1, 2, 3, 4, 5}\n",
      "set after adding a value : {1, 2, 3, 4, 5, 12}\n",
      "set after updating elements : {1, 2, 3, 4, 5, 6, 7, 8, 9, 12}\n",
      "set after remove a element : {1, 2, 3, 4, 5, 6, 7, 8, 9}\n"
     ]
    }
   ],
   "source": [
    "# creating a set\n",
    "s={1,2,3,4,5}\n",
    "print(\"set is \",s)\n",
    "\n",
    "#  we perform adding operation on it. add() add only one element at a time.\n",
    "s.add(12)\n",
    "print(\"set after adding a value :\",s)\n",
    "\n",
    "# we perform update operation on it. update() add multiple element at a time.\n",
    "s.update([6,7,8,9])\n",
    "print(\"set after updating elements :\",s)\n",
    "\n",
    "# we perform remove operation on it. remove() delete a specific element.\n",
    "s.remove(12)\n",
    "print(\"set after remove a element :\",s)"
   ]
  },
  {
   "cell_type": "markdown",
   "id": "5753e444-4d12-4246-9661-a52e28794214",
   "metadata": {},
   "source": [
    "Hence these are the reason of saying set is mutable datatype."
   ]
  },
  {
   "cell_type": "markdown",
   "id": "069374b0-0a48-4723-b7d0-a8da7ef41312",
   "metadata": {},
   "source": [
    "<font color=\"blue\">iii. Dictionary :- </font> A dictionary is an unordered collection of elements. Each element of dictionary has key/value pair using which we can acess particular<br> element from the dictionary. it is a mutable datatype. we can modify, remove and add values of existing element.  "
   ]
  },
  {
   "cell_type": "code",
   "execution_count": 27,
   "id": "3d281c52-76cb-41a4-898b-ee062e2dcb04",
   "metadata": {},
   "outputs": [
    {
     "name": "stdout",
     "output_type": "stream",
     "text": [
      "Dictionary : {'Name': 'Maurya Mayank', \"Father's Name\": 'Suresh kumar', 'Higher Degree': 'BCA', 'Session': '2017-2020'}\n",
      "\n",
      "Dictionary after adding key/value : {'Name': 'Maurya Mayank', \"Father's Name\": 'Suresh kumar', 'Higher Degree': 'BCA', 'Session': '2017-2020', 'College': \"St.Xavier's college\"}\n",
      "\n",
      "Dictionary after updating value : {'Name': 'Maurya Mayank', \"Father's Name\": 'Suresh kumar', 'Higher Degree': 'MCA', 'Session': '2017-2020', 'College': \"St.Xavier's college\"}\n",
      "\n",
      "Dictionary after removing key/value : {'Name': 'Maurya Mayank', \"Father's Name\": 'Suresh kumar', 'Higher Degree': 'MCA', 'College': \"St.Xavier's college\"}\n"
     ]
    }
   ],
   "source": [
    "# creating a dictionary \n",
    "student={'Name':\"Maurya Mayank\",\"Father's Name\":\"Suresh kumar\",\"Higher Degree\":\"BCA\",\"Session\":\"2017-2020\"}\n",
    "print(\"Dictionary :\",student)\n",
    "print()\n",
    "\n",
    "# Adding new key/value in dictionary\n",
    "student[\"College\"]=\"St.Xavier's college\"\n",
    "print(\"Dictionary after adding key/value :\",student)\n",
    "print()\n",
    "\n",
    "# Updating values in dictionary\n",
    "student[\"Higher Degree\"]=\"MCA\"\n",
    "print(\"Dictionary after updating value :\",student)\n",
    "print()\n",
    "\n",
    "# Removing key/value pairs from Dictionary\n",
    "student.pop('Session')\n",
    "print(\"Dictionary after removing key/value :\",student)"
   ]
  },
  {
   "cell_type": "markdown",
   "id": "fed763a2-4aea-46ab-b8e8-198634221307",
   "metadata": {},
   "source": [
    "Hence these are the reason of saying Dictionary is mutable datatype."
   ]
  },
  {
   "cell_type": "markdown",
   "id": "c2766967-cdf3-423c-9074-90f190bf218f",
   "metadata": {},
   "source": [
    "<font color=\"blue\">Immutable datatype:-</font> Immutable datatypes are objects that cannot be modified or altered after they have been created (for example, by adding new elements, removing elements, or replacing elements).Some immutable datatypes are Int, Float, Tuple, Complex, String etc. So we only discuss about tuple here."
   ]
  },
  {
   "cell_type": "markdown",
   "id": "c02805ec-e277-4307-b439-d3b307206637",
   "metadata": {},
   "source": [
    "Example:- <font color=\"blue\"><u> Tuple </u></font>"
   ]
  },
  {
   "cell_type": "code",
   "execution_count": 1,
   "id": "6d6664d8-7498-485b-bba7-5f93b5601895",
   "metadata": {},
   "outputs": [
    {
     "data": {
      "text/plain": [
       "tuple"
      ]
     },
     "execution_count": 1,
     "metadata": {},
     "output_type": "execute_result"
    }
   ],
   "source": [
    "# Creating Tuple \n",
    "t=(\"Maurya\",\"Mayank\",\"MCA\",\"St.xavier's college\")\n",
    "type(t)"
   ]
  },
  {
   "cell_type": "code",
   "execution_count": 2,
   "id": "7a00fe05-3aa5-4985-a798-a105ef5c99b5",
   "metadata": {},
   "outputs": [
    {
     "data": {
      "text/plain": [
       "('Maurya', 'Mayank', 'MCA', \"St.xavier's college\")"
      ]
     },
     "execution_count": 2,
     "metadata": {},
     "output_type": "execute_result"
    }
   ],
   "source": [
    "t"
   ]
  },
  {
   "cell_type": "code",
   "execution_count": 3,
   "id": "82c1a17b-076f-4688-a9ae-016eb62f44dd",
   "metadata": {},
   "outputs": [
    {
     "data": {
      "text/plain": [
       "'Mayank'"
      ]
     },
     "execution_count": 3,
     "metadata": {},
     "output_type": "execute_result"
    }
   ],
   "source": [
    "t[1]"
   ]
  },
  {
   "cell_type": "code",
   "execution_count": 4,
   "id": "8c726d32-a129-4555-86f6-f9e3a2219bed",
   "metadata": {},
   "outputs": [
    {
     "ename": "TypeError",
     "evalue": "'tuple' object does not support item assignment",
     "output_type": "error",
     "traceback": [
      "\u001b[0;31m---------------------------------------------------------------------------\u001b[0m",
      "\u001b[0;31mTypeError\u001b[0m                                 Traceback (most recent call last)",
      "Cell \u001b[0;32mIn[4], line 1\u001b[0m\n\u001b[0;32m----> 1\u001b[0m \u001b[43mt\u001b[49m\u001b[43m[\u001b[49m\u001b[38;5;241;43m1\u001b[39;49m\u001b[43m]\u001b[49m\u001b[38;5;241m=\u001b[39m\u001b[38;5;124m\"\u001b[39m\u001b[38;5;124mabc\u001b[39m\u001b[38;5;124m\"\u001b[39m\n",
      "\u001b[0;31mTypeError\u001b[0m: 'tuple' object does not support item assignment"
     ]
    }
   ],
   "source": [
    "t[1]=\"abc\""
   ]
  },
  {
   "cell_type": "code",
   "execution_count": 5,
   "id": "1cd4129d-e639-44ca-8a6f-baa8d2ceebd3",
   "metadata": {},
   "outputs": [],
   "source": [
    "# Here we see that tuple is not support item assignment so we say that tuple is immutable ."
   ]
  },
  {
   "cell_type": "code",
   "execution_count": null,
   "id": "9c387af2-07d7-4fd9-b704-e879533c2d74",
   "metadata": {},
   "outputs": [],
   "source": []
  }
 ],
 "metadata": {
  "kernelspec": {
   "display_name": "Python 3 (ipykernel)",
   "language": "python",
   "name": "python3"
  },
  "language_info": {
   "codemirror_mode": {
    "name": "ipython",
    "version": 3
   },
   "file_extension": ".py",
   "mimetype": "text/x-python",
   "name": "python",
   "nbconvert_exporter": "python",
   "pygments_lexer": "ipython3",
   "version": "3.10.8"
  }
 },
 "nbformat": 4,
 "nbformat_minor": 5
}
